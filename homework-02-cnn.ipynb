{
 "cells": [
  {
   "cell_type": "markdown",
   "metadata": {
    "cell_id": 1,
    "id": "kr9vAeEQlRVG"
   },
   "source": [
    "# Введение в глубинное обучение, ФКН ВШЭ\n",
    "\n",
    "## Домашнее задание 2. Классификация изображений. Сверточные нейронные сети.\n",
    "\n",
    "### Общая информация\n",
    "\n",
    "Дата выдачи: 07.11.2021\n",
    "\n",
    "Мягкий дедлайн: 23:59MSK 05.12.2021\n",
    "\n",
    "Жесткий дедлайн: 23:59MSK 05.12.2021\n",
    "\n",
    "Оценка после штрафа после мягкого дедлайна вычисляется по формуле $M_{penalty} = M_{full} \\cdot 0.85^{t/1440}$, где $M_{full}$ — полная оценка за работу без учета штрафа, а $t$ — время в минутах, прошедшее после мягкого дедлайна (округление до двух цифр после запятой). Таким образом, спустя первые сутки после мягкого дедлайна вы не можете получить оценку выше 8.5, а если сдать перед самым жестким дедлайном, то ваш максимум — 5.22 балла.\n",
    "\n",
    "### Оценивание и штрафы\n",
    "\n",
    "Максимально допустимая оценка за работу — 10 баллов. Сдавать задание после указанного срока сдачи нельзя.\n",
    "\n",
    "Задание выполняется самостоятельно. «Похожие» решения считаются плагиатом и все задействованные студенты (в том числе те, у кого списали) не могут получить за него больше 0 баллов. Если вы нашли решение какого-то из заданий (или его часть) в открытом источнике, необходимо указать ссылку на этот источник в отдельном блоке в конце вашей работы (скорее всего вы будете не единственным, кто это нашел, поэтому чтобы исключить подозрение в плагиате, необходима ссылка на источник).\n",
    "\n",
    "Неэффективная реализация кода может негативно отразиться на оценке. Также оценка может быть снижена за плохо читаемый код и плохо оформленные графики. Все ответы должны сопровождаться кодом или комментариями о том, как они были получены.\n",
    "\n",
    "### О задании\n",
    "\n",
    "В этом задании потребуется обучить классификатор изображений. Будем работать с датасетом, название которого раскрывать не будем. Можете посмотреть самостоятельно на картинки, которые в есть датасете. В нём 200 классов и около 5 тысяч картинок на каждый класс. Классы пронумерованы, как нетрудно догадаться, от 0 до 199. Скачать датасет можно вот [тут](https://www.dropbox.com/s/33l8lp62rmvtx40/dataset.zip?dl=0).\n",
    "\n",
    "Структура датасета простая -- есть директории train/ и val/, в которых лежат обучающие и валидационные данные. В train/ и val/ лежат директориии, соответствующие классам изображений, в которых лежат, собственно, сами изображения."
   ]
  },
  {
   "cell_type": "markdown",
   "metadata": {
    "cell_id": 3,
    "id": "BxX49gLclRVJ"
   },
   "source": [
    "## Задание 1. (Максимум 10 баллов + 5 бонусных баллов)\n",
    "\n",
    "__Необходимо выполнить любое из двух заданий (на выбор)__\n",
    "\n",
    "1) Добейтесь accuracy **на валидации не менее 0.44**. В этом задании **запрещено** пользоваться предобученными моделями и ресайзом картинок. \n",
    "\n",
    "2) Добейтесь accuracy **на валидации не менее 0.84**. В этом задании делать ресайз и использовать претрейн можно. \n",
    "\n",
    "Обязательно указывайте ссылки на чужой код, если вы его используете. Обязательно ссылайтесь на статьи / блогпосты / вопросы на stackoverflow / видосы от ютуберов-машинлернеров / курсы / подсказки от Дяди Васи и прочие дополнительные материалы, если вы их используете. \n",
    "\n",
    "Ваш код обязательно должен проходить все `assert`'ы ниже.\n",
    "\n",
    "Необходимо написать функции `train_one_epoch`, `train` и `predict` по шаблонам ниже (во многом повторяют примеры с семинаров). Обратите особое внимание на функцию `predict`: она должна возвращать список лоссов по всем объектам даталоадера, список предсказанных классов для каждого объекта из даталоалера и список настоящих классов для каждого объекта в даталоадере (и именно в таком порядке).\n",
    "\n",
    "__Использовать внешние данные для обучения строго запрещено в обоих заданиях. Также запрещено обучаться на валидационной выборке__.\n",
    "\n",
    "\n",
    "__Критерии оценки__: Оценка вычисляется по простой формуле: `min(10, 10 * Ваша accuracy / 0.44)` для первого задания и `min(10, 10 * (Ваша accuracy - 0.5) / 0.34)` для второго. Оценка округляется до десятых по арифметическим правилам. Если вы выполнили оба задания, то берется максимум из двух оценок.\n",
    "\n",
    "__Бонус__. Вы получаете 5 бонусных баллов если справляетесь с обоими заданиями на 10 баллов (итого 15 баллов). В противном случае выставляется максимальная из двух оценок и ваш бонус равен нулю.\n",
    "\n",
    "__Советы и указания__:\n",
    " - Наверняка вам потребуется много гуглить о классификации и о том, как заставить её работать. Это нормально, все гуглят. Но не забывайте, что нужно быть готовым за скатанный код отвечать :)\n",
    " - Используйте аугментации. Для этого пользуйтесь модулем `torchvision.transforms` или библиотекой [albumentations](https://github.com/albumentations-team/albumentations)\n",
    " - Можно обучать с нуля или файнтюнить (в зависимости от задания) модели из `torchvision`.\n",
    " - Рекомендуем написать вам сначала класс-датасет (или воспользоваться классом `ImageFolder`), который возвращает картинки и соответствующие им классы, а затем функции для трейна по шаблонам ниже. Однако делать это мы не заставляем. Если вам так неудобно, то можете писать код в удобном стиле. Однако учтите, что чрезмерное изменение нижеперечисленных шаблонов увеличит количество вопросов к вашему коду и повысит вероятность вызова на защиту :)\n",
    " - Валидируйте. Трекайте ошибки как можно раньше, чтобы не тратить время впустую.\n",
    " - Чтобы быстро отладить код, пробуйте обучаться на маленькой части датасета (скажем, 5-10 картинок просто чтобы убедиться что код запускается). Когда вы поняли, что смогли всё отдебажить, переходите обучению по всему датасету\n",
    " - На каждый запуск делайте ровно одно изменение в модели/аугментации/оптимайзере, чтобы понять, что и как влияет на результат.\n",
    " - Фиксируйте random seed.\n",
    " - Начинайте с простых моделей и постепенно переходите к сложным. Обучение лёгких моделей экономит много времени.\n",
    " - Ставьте расписание на learning rate. Уменьшайте его, когда лосс на валидации перестаёт убывать.\n",
    " - Советуем использовать GPU. Если у вас его нет, используйте google colab. Если вам неудобно его использовать на постоянной основе, напишите и отладьте весь код локально на CPU, а затем запустите уже написанный ноутбук в колабе. Авторское решение задания достигает требуемой точности в колабе за 45 минут обучения.\n",
    " \n",
    "Good luck & have fun! :)"
   ]
  },
  {
   "cell_type": "code",
   "execution_count": 1,
   "metadata": {
    "cell_id": 4,
    "id": "LKcSNj4tlRVK"
   },
   "outputs": [],
   "source": [
    "import numpy as np\n",
    "import torch\n",
    "import torchvision\n",
    "import tqdm\n",
    "from torch import nn\n",
    "from torch.nn import functional as F\n",
    "from sklearn.metrics import accuracy_score\n",
    "import torchvision\n",
    "import torchvision.transforms as transforms"
   ]
  },
  {
   "cell_type": "code",
   "execution_count": 2,
   "metadata": {
    "id": "llye3TAn9YOe"
   },
   "outputs": [],
   "source": [
    "#!wget https://www.dropbox.com/s/33l8lp62rmvtx40/dataset.zip?dl=1 -O dataset.zip && unzip -q dataset.zip"
   ]
  },
  {
   "cell_type": "markdown",
   "metadata": {
    "id": "RytEDW0ylRVN"
   },
   "source": [
    "### Подготовка данных"
   ]
  },
  {
   "cell_type": "code",
   "execution_count": null,
   "metadata": {},
   "outputs": [],
   "source": []
  },
  {
   "cell_type": "code",
   "execution_count": 3,
   "metadata": {
    "cell_id": 5,
    "id": "QEdDQtHdlRVO"
   },
   "outputs": [],
   "source": [
    "train_transform = None\n",
    "val_transform = None\n",
    "\n",
    "transformer = transforms.Compose([\n",
    "    transforms.ToTensor(),\n",
    "    transforms.Normalize((0.5, 0.5, 0.5), (0.5, 0.5, 0.5)),\n",
    "])\n",
    "\n",
    "# YOU CAN DEFINE AUGMENTATIONS HERE\n",
    "\n",
    "train_dataset = torchvision.datasets.ImageFolder('./dataset_hw2/train', transform=transformer)\n",
    "val_dataset = torchvision.datasets.ImageFolder('./dataset_hw2/val', transform=transformer)\n",
    "\n",
    "train_dataloader = torch.utils.data.DataLoader(train_dataset, batch_size=4,\n",
    "                                          shuffle=True, num_workers=2)\n",
    "val_dataloader =  torch.utils.data.DataLoader(val_dataset, batch_size=4,\n",
    "                                         shuffle=False, num_workers=2)"
   ]
  },
  {
   "cell_type": "code",
   "execution_count": 4,
   "metadata": {},
   "outputs": [
    {
     "name": "stdout",
     "output_type": "stream",
     "text": [
      "\u001b[1m\u001b[36mclass_000\u001b[m\u001b[m \u001b[1m\u001b[36mclass_025\u001b[m\u001b[m \u001b[1m\u001b[36mclass_050\u001b[m\u001b[m \u001b[1m\u001b[36mclass_075\u001b[m\u001b[m \u001b[1m\u001b[36mclass_100\u001b[m\u001b[m \u001b[1m\u001b[36mclass_125\u001b[m\u001b[m \u001b[1m\u001b[36mclass_150\u001b[m\u001b[m \u001b[1m\u001b[36mclass_175\u001b[m\u001b[m\r\n",
      "\u001b[1m\u001b[36mclass_001\u001b[m\u001b[m \u001b[1m\u001b[36mclass_026\u001b[m\u001b[m \u001b[1m\u001b[36mclass_051\u001b[m\u001b[m \u001b[1m\u001b[36mclass_076\u001b[m\u001b[m \u001b[1m\u001b[36mclass_101\u001b[m\u001b[m \u001b[1m\u001b[36mclass_126\u001b[m\u001b[m \u001b[1m\u001b[36mclass_151\u001b[m\u001b[m \u001b[1m\u001b[36mclass_176\u001b[m\u001b[m\r\n",
      "\u001b[1m\u001b[36mclass_002\u001b[m\u001b[m \u001b[1m\u001b[36mclass_027\u001b[m\u001b[m \u001b[1m\u001b[36mclass_052\u001b[m\u001b[m \u001b[1m\u001b[36mclass_077\u001b[m\u001b[m \u001b[1m\u001b[36mclass_102\u001b[m\u001b[m \u001b[1m\u001b[36mclass_127\u001b[m\u001b[m \u001b[1m\u001b[36mclass_152\u001b[m\u001b[m \u001b[1m\u001b[36mclass_177\u001b[m\u001b[m\r\n",
      "\u001b[1m\u001b[36mclass_003\u001b[m\u001b[m \u001b[1m\u001b[36mclass_028\u001b[m\u001b[m \u001b[1m\u001b[36mclass_053\u001b[m\u001b[m \u001b[1m\u001b[36mclass_078\u001b[m\u001b[m \u001b[1m\u001b[36mclass_103\u001b[m\u001b[m \u001b[1m\u001b[36mclass_128\u001b[m\u001b[m \u001b[1m\u001b[36mclass_153\u001b[m\u001b[m \u001b[1m\u001b[36mclass_178\u001b[m\u001b[m\r\n",
      "\u001b[1m\u001b[36mclass_004\u001b[m\u001b[m \u001b[1m\u001b[36mclass_029\u001b[m\u001b[m \u001b[1m\u001b[36mclass_054\u001b[m\u001b[m \u001b[1m\u001b[36mclass_079\u001b[m\u001b[m \u001b[1m\u001b[36mclass_104\u001b[m\u001b[m \u001b[1m\u001b[36mclass_129\u001b[m\u001b[m \u001b[1m\u001b[36mclass_154\u001b[m\u001b[m \u001b[1m\u001b[36mclass_179\u001b[m\u001b[m\r\n",
      "\u001b[1m\u001b[36mclass_005\u001b[m\u001b[m \u001b[1m\u001b[36mclass_030\u001b[m\u001b[m \u001b[1m\u001b[36mclass_055\u001b[m\u001b[m \u001b[1m\u001b[36mclass_080\u001b[m\u001b[m \u001b[1m\u001b[36mclass_105\u001b[m\u001b[m \u001b[1m\u001b[36mclass_130\u001b[m\u001b[m \u001b[1m\u001b[36mclass_155\u001b[m\u001b[m \u001b[1m\u001b[36mclass_180\u001b[m\u001b[m\r\n",
      "\u001b[1m\u001b[36mclass_006\u001b[m\u001b[m \u001b[1m\u001b[36mclass_031\u001b[m\u001b[m \u001b[1m\u001b[36mclass_056\u001b[m\u001b[m \u001b[1m\u001b[36mclass_081\u001b[m\u001b[m \u001b[1m\u001b[36mclass_106\u001b[m\u001b[m \u001b[1m\u001b[36mclass_131\u001b[m\u001b[m \u001b[1m\u001b[36mclass_156\u001b[m\u001b[m \u001b[1m\u001b[36mclass_181\u001b[m\u001b[m\r\n",
      "\u001b[1m\u001b[36mclass_007\u001b[m\u001b[m \u001b[1m\u001b[36mclass_032\u001b[m\u001b[m \u001b[1m\u001b[36mclass_057\u001b[m\u001b[m \u001b[1m\u001b[36mclass_082\u001b[m\u001b[m \u001b[1m\u001b[36mclass_107\u001b[m\u001b[m \u001b[1m\u001b[36mclass_132\u001b[m\u001b[m \u001b[1m\u001b[36mclass_157\u001b[m\u001b[m \u001b[1m\u001b[36mclass_182\u001b[m\u001b[m\r\n",
      "\u001b[1m\u001b[36mclass_008\u001b[m\u001b[m \u001b[1m\u001b[36mclass_033\u001b[m\u001b[m \u001b[1m\u001b[36mclass_058\u001b[m\u001b[m \u001b[1m\u001b[36mclass_083\u001b[m\u001b[m \u001b[1m\u001b[36mclass_108\u001b[m\u001b[m \u001b[1m\u001b[36mclass_133\u001b[m\u001b[m \u001b[1m\u001b[36mclass_158\u001b[m\u001b[m \u001b[1m\u001b[36mclass_183\u001b[m\u001b[m\r\n",
      "\u001b[1m\u001b[36mclass_009\u001b[m\u001b[m \u001b[1m\u001b[36mclass_034\u001b[m\u001b[m \u001b[1m\u001b[36mclass_059\u001b[m\u001b[m \u001b[1m\u001b[36mclass_084\u001b[m\u001b[m \u001b[1m\u001b[36mclass_109\u001b[m\u001b[m \u001b[1m\u001b[36mclass_134\u001b[m\u001b[m \u001b[1m\u001b[36mclass_159\u001b[m\u001b[m \u001b[1m\u001b[36mclass_184\u001b[m\u001b[m\r\n",
      "\u001b[1m\u001b[36mclass_010\u001b[m\u001b[m \u001b[1m\u001b[36mclass_035\u001b[m\u001b[m \u001b[1m\u001b[36mclass_060\u001b[m\u001b[m \u001b[1m\u001b[36mclass_085\u001b[m\u001b[m \u001b[1m\u001b[36mclass_110\u001b[m\u001b[m \u001b[1m\u001b[36mclass_135\u001b[m\u001b[m \u001b[1m\u001b[36mclass_160\u001b[m\u001b[m \u001b[1m\u001b[36mclass_185\u001b[m\u001b[m\r\n",
      "\u001b[1m\u001b[36mclass_011\u001b[m\u001b[m \u001b[1m\u001b[36mclass_036\u001b[m\u001b[m \u001b[1m\u001b[36mclass_061\u001b[m\u001b[m \u001b[1m\u001b[36mclass_086\u001b[m\u001b[m \u001b[1m\u001b[36mclass_111\u001b[m\u001b[m \u001b[1m\u001b[36mclass_136\u001b[m\u001b[m \u001b[1m\u001b[36mclass_161\u001b[m\u001b[m \u001b[1m\u001b[36mclass_186\u001b[m\u001b[m\r\n",
      "\u001b[1m\u001b[36mclass_012\u001b[m\u001b[m \u001b[1m\u001b[36mclass_037\u001b[m\u001b[m \u001b[1m\u001b[36mclass_062\u001b[m\u001b[m \u001b[1m\u001b[36mclass_087\u001b[m\u001b[m \u001b[1m\u001b[36mclass_112\u001b[m\u001b[m \u001b[1m\u001b[36mclass_137\u001b[m\u001b[m \u001b[1m\u001b[36mclass_162\u001b[m\u001b[m \u001b[1m\u001b[36mclass_187\u001b[m\u001b[m\r\n",
      "\u001b[1m\u001b[36mclass_013\u001b[m\u001b[m \u001b[1m\u001b[36mclass_038\u001b[m\u001b[m \u001b[1m\u001b[36mclass_063\u001b[m\u001b[m \u001b[1m\u001b[36mclass_088\u001b[m\u001b[m \u001b[1m\u001b[36mclass_113\u001b[m\u001b[m \u001b[1m\u001b[36mclass_138\u001b[m\u001b[m \u001b[1m\u001b[36mclass_163\u001b[m\u001b[m \u001b[1m\u001b[36mclass_188\u001b[m\u001b[m\r\n",
      "\u001b[1m\u001b[36mclass_014\u001b[m\u001b[m \u001b[1m\u001b[36mclass_039\u001b[m\u001b[m \u001b[1m\u001b[36mclass_064\u001b[m\u001b[m \u001b[1m\u001b[36mclass_089\u001b[m\u001b[m \u001b[1m\u001b[36mclass_114\u001b[m\u001b[m \u001b[1m\u001b[36mclass_139\u001b[m\u001b[m \u001b[1m\u001b[36mclass_164\u001b[m\u001b[m \u001b[1m\u001b[36mclass_189\u001b[m\u001b[m\r\n",
      "\u001b[1m\u001b[36mclass_015\u001b[m\u001b[m \u001b[1m\u001b[36mclass_040\u001b[m\u001b[m \u001b[1m\u001b[36mclass_065\u001b[m\u001b[m \u001b[1m\u001b[36mclass_090\u001b[m\u001b[m \u001b[1m\u001b[36mclass_115\u001b[m\u001b[m \u001b[1m\u001b[36mclass_140\u001b[m\u001b[m \u001b[1m\u001b[36mclass_165\u001b[m\u001b[m \u001b[1m\u001b[36mclass_190\u001b[m\u001b[m\r\n",
      "\u001b[1m\u001b[36mclass_016\u001b[m\u001b[m \u001b[1m\u001b[36mclass_041\u001b[m\u001b[m \u001b[1m\u001b[36mclass_066\u001b[m\u001b[m \u001b[1m\u001b[36mclass_091\u001b[m\u001b[m \u001b[1m\u001b[36mclass_116\u001b[m\u001b[m \u001b[1m\u001b[36mclass_141\u001b[m\u001b[m \u001b[1m\u001b[36mclass_166\u001b[m\u001b[m \u001b[1m\u001b[36mclass_191\u001b[m\u001b[m\r\n",
      "\u001b[1m\u001b[36mclass_017\u001b[m\u001b[m \u001b[1m\u001b[36mclass_042\u001b[m\u001b[m \u001b[1m\u001b[36mclass_067\u001b[m\u001b[m \u001b[1m\u001b[36mclass_092\u001b[m\u001b[m \u001b[1m\u001b[36mclass_117\u001b[m\u001b[m \u001b[1m\u001b[36mclass_142\u001b[m\u001b[m \u001b[1m\u001b[36mclass_167\u001b[m\u001b[m \u001b[1m\u001b[36mclass_192\u001b[m\u001b[m\r\n",
      "\u001b[1m\u001b[36mclass_018\u001b[m\u001b[m \u001b[1m\u001b[36mclass_043\u001b[m\u001b[m \u001b[1m\u001b[36mclass_068\u001b[m\u001b[m \u001b[1m\u001b[36mclass_093\u001b[m\u001b[m \u001b[1m\u001b[36mclass_118\u001b[m\u001b[m \u001b[1m\u001b[36mclass_143\u001b[m\u001b[m \u001b[1m\u001b[36mclass_168\u001b[m\u001b[m \u001b[1m\u001b[36mclass_193\u001b[m\u001b[m\r\n",
      "\u001b[1m\u001b[36mclass_019\u001b[m\u001b[m \u001b[1m\u001b[36mclass_044\u001b[m\u001b[m \u001b[1m\u001b[36mclass_069\u001b[m\u001b[m \u001b[1m\u001b[36mclass_094\u001b[m\u001b[m \u001b[1m\u001b[36mclass_119\u001b[m\u001b[m \u001b[1m\u001b[36mclass_144\u001b[m\u001b[m \u001b[1m\u001b[36mclass_169\u001b[m\u001b[m \u001b[1m\u001b[36mclass_194\u001b[m\u001b[m\r\n",
      "\u001b[1m\u001b[36mclass_020\u001b[m\u001b[m \u001b[1m\u001b[36mclass_045\u001b[m\u001b[m \u001b[1m\u001b[36mclass_070\u001b[m\u001b[m \u001b[1m\u001b[36mclass_095\u001b[m\u001b[m \u001b[1m\u001b[36mclass_120\u001b[m\u001b[m \u001b[1m\u001b[36mclass_145\u001b[m\u001b[m \u001b[1m\u001b[36mclass_170\u001b[m\u001b[m \u001b[1m\u001b[36mclass_195\u001b[m\u001b[m\r\n",
      "\u001b[1m\u001b[36mclass_021\u001b[m\u001b[m \u001b[1m\u001b[36mclass_046\u001b[m\u001b[m \u001b[1m\u001b[36mclass_071\u001b[m\u001b[m \u001b[1m\u001b[36mclass_096\u001b[m\u001b[m \u001b[1m\u001b[36mclass_121\u001b[m\u001b[m \u001b[1m\u001b[36mclass_146\u001b[m\u001b[m \u001b[1m\u001b[36mclass_171\u001b[m\u001b[m \u001b[1m\u001b[36mclass_196\u001b[m\u001b[m\r\n",
      "\u001b[1m\u001b[36mclass_022\u001b[m\u001b[m \u001b[1m\u001b[36mclass_047\u001b[m\u001b[m \u001b[1m\u001b[36mclass_072\u001b[m\u001b[m \u001b[1m\u001b[36mclass_097\u001b[m\u001b[m \u001b[1m\u001b[36mclass_122\u001b[m\u001b[m \u001b[1m\u001b[36mclass_147\u001b[m\u001b[m \u001b[1m\u001b[36mclass_172\u001b[m\u001b[m \u001b[1m\u001b[36mclass_197\u001b[m\u001b[m\r\n",
      "\u001b[1m\u001b[36mclass_023\u001b[m\u001b[m \u001b[1m\u001b[36mclass_048\u001b[m\u001b[m \u001b[1m\u001b[36mclass_073\u001b[m\u001b[m \u001b[1m\u001b[36mclass_098\u001b[m\u001b[m \u001b[1m\u001b[36mclass_123\u001b[m\u001b[m \u001b[1m\u001b[36mclass_148\u001b[m\u001b[m \u001b[1m\u001b[36mclass_173\u001b[m\u001b[m \u001b[1m\u001b[36mclass_198\u001b[m\u001b[m\r\n",
      "\u001b[1m\u001b[36mclass_024\u001b[m\u001b[m \u001b[1m\u001b[36mclass_049\u001b[m\u001b[m \u001b[1m\u001b[36mclass_074\u001b[m\u001b[m \u001b[1m\u001b[36mclass_099\u001b[m\u001b[m \u001b[1m\u001b[36mclass_124\u001b[m\u001b[m \u001b[1m\u001b[36mclass_149\u001b[m\u001b[m \u001b[1m\u001b[36mclass_174\u001b[m\u001b[m \u001b[1m\u001b[36mclass_199\u001b[m\u001b[m\r\n"
     ]
    }
   ],
   "source": [
    "!ls ./dataset_hw2/train"
   ]
  },
  {
   "cell_type": "markdown",
   "metadata": {},
   "source": [
    "Видим, что у нас 200 классов"
   ]
  },
  {
   "cell_type": "code",
   "execution_count": 5,
   "metadata": {},
   "outputs": [],
   "source": [
    "n_classes = 200"
   ]
  },
  {
   "cell_type": "code",
   "execution_count": 6,
   "metadata": {
    "cell_id": 6,
    "id": "mrg4Yj0VlRVP"
   },
   "outputs": [
    {
     "name": "stdout",
     "output_type": "stream",
     "text": [
      "tests passed\n"
     ]
    }
   ],
   "source": [
    "# Just very simple sanity checks\n",
    "assert isinstance(train_dataset[0], tuple)\n",
    "assert len(train_dataset[0]) == 2\n",
    "assert isinstance(train_dataset[1][1], int)\n",
    "print(\"tests passed\")"
   ]
  },
  {
   "cell_type": "code",
   "execution_count": 7,
   "metadata": {},
   "outputs": [
    {
     "data": {
      "image/png": "[encoded data removed]",
      "text/plain": [
       "<Figure size 432x288 with 1 Axes>"
      ]
     },
     "metadata": {
      "needs_background": "light"
     },
     "output_type": "display_data"
    }
   ],
   "source": [
    "import matplotlib.pyplot as plt\n",
    "import numpy as np\n",
    "def imshow(img):\n",
    "    img = img / 2 + 0.5\n",
    "    npimg = img.numpy()\n",
    "    plt.imshow(np.transpose(npimg, (1, 2, 0)))\n",
    "    plt.show()\n",
    "\n",
    "\n",
    "dataiter = iter(train_dataloader)\n",
    "images, labels = dataiter.next()\n",
    "imshow(torchvision.utils.make_grid(images))"
   ]
  },
  {
   "cell_type": "code",
   "execution_count": 8,
   "metadata": {},
   "outputs": [
    {
     "data": {
      "text/plain": [
       "torch.Size([4, 3, 64, 64])"
      ]
     },
     "execution_count": 8,
     "metadata": {},
     "output_type": "execute_result"
    }
   ],
   "source": [
    "images.size()"
   ]
  },
  {
   "cell_type": "markdown",
   "metadata": {
    "id": "8RlSlmyjlRVP"
   },
   "source": [
    "### Вспомогательные функции, реализация модели"
   ]
  },
  {
   "cell_type": "code",
   "execution_count": 9,
   "metadata": {},
   "outputs": [],
   "source": [
    "from tqdm import tqdm"
   ]
  },
  {
   "cell_type": "code",
   "execution_count": 10,
   "metadata": {
    "cell_id": 7,
    "id": "yYG2-Cq8lRVQ"
   },
   "outputs": [],
   "source": [
    "def train_one_epoch(model, train_dataloader, criterion, optimizer, device=\"cuda:0\"):\n",
    "    model.train()\n",
    "    losses = 0\n",
    "    for i, data in enumerate(train_dataloader):\n",
    "        inputs, true_classes = data\n",
    "        optimizer.zero_grad()\n",
    "        predicted_classes = model(inputs)\n",
    "        loss = criterion(predicted_classes, true_classes)\n",
    "        loss.backward()\n",
    "        optimizer.step()\n",
    "        losses += loss.item()\n",
    "    return losses\n",
    "\n",
    "\n",
    "def predict(model, val_dataloder, criterion, device=\"cuda:0\"):\n",
    "    model.eval()\n",
    "    predictions = []\n",
    "    true_labels = []\n",
    "    losses = 0\n",
    "    with torch.no_grad():\n",
    "        for i, data in enumerate(val_dataloder):\n",
    "            inputs, true_classes = data\n",
    "            predicted_classes = model(inputs)\n",
    "            loss = criterion(predicted_classes, true_classes)\n",
    "            \n",
    "            predicted_labels = torch.argmax(predicted_classes.detach(), dim=-1).cpu().numpy().tolist()\n",
    "            predictions.extend(predicted_labels)\n",
    "            true_labels.extend(true_classes.cpu().numpy().tolist())\n",
    "            \n",
    "            losses += loss.item()\n",
    "            \n",
    "    return losses, predictions, true_labels\n",
    "\n",
    "\n",
    "def train(model, train_dataloader, val_dataloader, criterion, optimizer, device=\"cuda:0\", n_epochs=10, scheduler=None):\n",
    "    model.to(device)\n",
    "    train_losses, train_accuracies = [], []\n",
    "    test_losses, test_accuracies = [], []\n",
    "    for epoch in range(1, n_epochs + 1):\n",
    "        model.train()\n",
    "        running_loss, running_accuracy = 0.0, 0.0\n",
    "        for images, labels in tqdm(train_dataloader, desc=f'Training {epoch}/{n_epochs}'):\n",
    "            optimizer.zero_grad()\n",
    "            images = images.to(device)\n",
    "            labels = labels.to(device)\n",
    "        \n",
    "            logits = model(images)\n",
    "            loss = criterion(logits, labels)\n",
    "            loss.backward()\n",
    "            optimizer.step()\n",
    "        \n",
    "            running_loss += loss.item() * images.shape[0]\n",
    "            running_accuracy += (logits.argmax(dim=-1) == labels).sum().item()\n",
    "        train_losses += [running_loss / len(train_dataloader.dataset)]\n",
    "        train_accuracies += [running_accuracy / len(train_dataloader.dataset)]\n",
    "    \n",
    "        model.eval()\n",
    "        running_loss, running_accuracy = 0.0, 0.0\n",
    "        for images, labels in tqdm(val_dataloader, desc=f'Testing {epoch}/{n_epochs}'):\n",
    "            images = images.to(device)\n",
    "            labels = labels.to(device)\n",
    "        \n",
    "            with torch.no_grad():\n",
    "                logits = model(images)\n",
    "                loss = criterion(logits, labels)\n",
    "        \n",
    "            running_loss += loss.item() * images.shape[0]\n",
    "            running_accuracy += (logits.argmax(dim=-1) == labels).sum().item()\n",
    "        test_losses += [running_loss / len(val_dataloader.dataset)]\n",
    "        test_accuracies += [running_accuracy / len(val_dataloader.dataset)]\n",
    "        plot_losses(train_losses, test_losses, train_accuracies, test_accuracies)\n",
    "    print(f'Best test accuracy: {max(test_accuracies)}')"
   ]
  },
  {
   "cell_type": "markdown",
   "metadata": {
    "id": "MxR3gfcilRVW"
   },
   "source": [
    "### Обучение модели, запуски экспериментов"
   ]
  },
  {
   "cell_type": "code",
   "execution_count": 37,
   "metadata": {},
   "outputs": [],
   "source": [
    "from torch import nn\n",
    "\n",
    "class ConvNet(nn.Module):\n",
    "    def __init__(self, in_channels=3, n_classes=10):\n",
    "        super().__init__()\n",
    "        self.features = nn.Sequential(\n",
    "            nn.Conv2d(in_channels, 64, kernel_size=3, padding=1),\n",
    "            nn.BatchNorm2d(64),\n",
    "            nn.ReLU(),\n",
    "            nn.Conv2d(64, 64, kernel_size=3, padding=1),\n",
    "            nn.BatchNorm2d(64),\n",
    "            nn.ReLU(),\n",
    "            nn.MaxPool2d(2),\n",
    "            \n",
    "            nn.Conv2d(64, 128, kernel_size=3, padding=1),\n",
    "            nn.BatchNorm2d(128),\n",
    "            nn.ReLU(),\n",
    "            nn.Conv2d(128, 128, kernel_size=3, padding=1),\n",
    "            nn.BatchNorm2d(128),\n",
    "            nn.ReLU(),\n",
    "            nn.Conv2d(128, 128, kernel_size=3, padding=1),\n",
    "            nn.BatchNorm2d(128),\n",
    "            nn.ReLU(),\n",
    "            nn.MaxPool2d(2),\n",
    "            \n",
    "            nn.Conv2d(128, 256, kernel_size=3, padding=1),\n",
    "            nn.BatchNorm2d(256),\n",
    "            nn.ReLU(),\n",
    "            nn.Conv2d(256, 256, kernel_size=3, padding=1),\n",
    "            nn.BatchNorm2d(256),\n",
    "            nn.ReLU(),\n",
    "            nn.Conv2d(256, 256, kernel_size=3, padding=1),\n",
    "            nn.BatchNorm2d(256),\n",
    "            nn.ReLU(),\n",
    "            nn.MaxPool2d(2),\n",
    "            \n",
    "            nn.Conv2d(256, 512, kernel_size=3, padding=1),\n",
    "            nn.BatchNorm2d(512),\n",
    "            nn.ReLU(),\n",
    "            nn.Conv2d(512, 512, kernel_size=3, padding=1),\n",
    "            nn.BatchNorm2d(512),\n",
    "            nn.ReLU(),\n",
    "            nn.Conv2d(512, 512, kernel_size=3, padding=1),\n",
    "            nn.BatchNorm2d(512),\n",
    "            nn.ReLU(),\n",
    "            nn.MaxPool2d(2),\n",
    "\n",
    "            )\n",
    "        self.head = nn.Sequential(\n",
    "            nn.Linear(512, 512),\n",
    "            nn.ReLU(),\n",
    "            nn.Linear(512, n_classes)\n",
    "        )\n",
    "        \n",
    "    def forward(self, images):\n",
    "        features = self.features(images)\n",
    "        features = features.mean(dim=(2, 3))\n",
    "        logits = self.head(features)\n",
    "        return logits"
   ]
  },
  {
   "cell_type": "code",
   "execution_count": null,
   "metadata": {},
   "outputs": [],
   "source": []
  },
  {
   "cell_type": "code",
   "execution_count": 38,
   "metadata": {
    "cell_id": 8,
    "id": "JXFJ6oS8lRVX",
    "scrolled": true
   },
   "outputs": [],
   "source": [
    "model = ConvNet(in_channels=3, n_classes=n_classes)\n",
    "optimizer = torch.optim.Adam(model.parameters(), lr=1e-3)\n",
    "criterion = nn.CrossEntropyLoss()\n",
    "n_epochs = 16\n",
    "device = torch.device(\"cuda:0\") if torch.cuda.is_available() else torch.device(\"cpu\")"
   ]
  },
  {
   "cell_type": "markdown",
   "metadata": {
    "cell_id": 9,
    "id": "CesoOl6BlRVY"
   },
   "source": [
    "Простой тест на проверку правильности написанного кода"
   ]
  },
  {
   "cell_type": "code",
   "execution_count": 39,
   "metadata": {
    "cell_id": 10,
    "id": "B_LB2jn6lRVY"
   },
   "outputs": [
    {
     "name": "stdout",
     "output_type": "stream",
     "text": [
      "tests passed\n"
     ]
    }
   ],
   "source": [
    "all_losses, predicted_labels, true_labels = predict(model, val_dataloader, criterion, device)\n",
    "assert len(predicted_labels) == len(val_dataset)\n",
    "accuracy = accuracy_score(predicted_labels, true_labels)\n",
    "print(\"tests passed\")"
   ]
  },
  {
   "cell_type": "markdown",
   "metadata": {
    "cell_id": 11,
    "id": "tS-LLiXUlRVY"
   },
   "source": [
    "Запустить обучение можно в ячейке ниже."
   ]
  },
  {
   "cell_type": "code",
   "execution_count": 40,
   "metadata": {},
   "outputs": [],
   "source": [
    "def plot_losses(train_losses, test_losses, train_accuracies, test_accuracies):\n",
    "    clear_output()\n",
    "    fig, axs = plt.subplots(1, 2, figsize=(13, 4))\n",
    "    axs[0].plot(range(1, len(train_losses) + 1), train_losses, label='train')\n",
    "    axs[0].plot(range(1, len(test_losses) + 1), test_losses, label='test')\n",
    "    axs[0].set_ylabel('loss')\n",
    "\n",
    "    axs[1].plot(range(1, len(train_accuracies) + 1), train_accuracies, label='train')\n",
    "    axs[1].plot(range(1, len(test_accuracies) + 1), test_accuracies, label='test')\n",
    "    axs[1].set_ylabel('accuracy')\n",
    "\n",
    "    for ax in axs:\n",
    "        ax.grid()\n",
    "        ax.set_xlabel('epoch')\n",
    "        ax.legend()\n",
    "\n",
    "    plt.show()"
   ]
  },
  {
   "cell_type": "code",
   "execution_count": 18,
   "metadata": {},
   "outputs": [],
   "source": [
    "import torch\n",
    "from torch.utils.data import Dataset, DataLoader\n",
    "from torchvision.datasets import CIFAR10\n",
    "import torchvision.transforms as T\n",
    "from tqdm.notebook import tqdm\n",
    "import matplotlib.pyplot as plt\n",
    "from IPython.display import clear_output"
   ]
  },
  {
   "cell_type": "code",
   "execution_count": 42,
   "metadata": {
    "cell_id": 12,
    "id": "ECIzZ_RYlRVZ"
   },
   "outputs": [
    {
     "data": {
      "application/vnd.jupyter.widget-view+json": {
       "model_id": "2a0220749f2049928f8f4fa591235077",
       "version_major": 2,
       "version_minor": 0
      },
      "text/plain": [
       "Training 1/16:   0%|          | 0/25000 [00:00<?, ?it/s]"
      ]
     },
     "metadata": {},
     "output_type": "display_data"
    },
    {
     "name": "stderr",
     "output_type": "stream",
     "text": [
      "[E thread_pool.cpp:112] Exception in thread pool task: mutex lock failed: Invalid argument\n"
     ]
    },
    {
     "ename": "KeyboardInterrupt",
     "evalue": "",
     "output_type": "error",
     "traceback": [
      "\u001b[0;31m---------------------------------------------------------------------------\u001b[0m",
      "\u001b[0;31mKeyboardInterrupt\u001b[0m                         Traceback (most recent call last)",
      "\u001b[0;32m/var/folders/vr/gh68th1d5xg726gd_fhdrsgm0000gn/T/ipykernel_6949/3937850222.py\u001b[0m in \u001b[0;36m<module>\u001b[0;34m\u001b[0m\n\u001b[0;32m----> 1\u001b[0;31m \u001b[0mtrain\u001b[0m\u001b[0;34m(\u001b[0m\u001b[0mmodel\u001b[0m\u001b[0;34m,\u001b[0m \u001b[0mtrain_dataloader\u001b[0m\u001b[0;34m,\u001b[0m \u001b[0mval_dataloader\u001b[0m\u001b[0;34m,\u001b[0m \u001b[0mcriterion\u001b[0m\u001b[0;34m,\u001b[0m \u001b[0moptimizer\u001b[0m\u001b[0;34m,\u001b[0m \u001b[0mdevice\u001b[0m\u001b[0;34m,\u001b[0m \u001b[0mn_epochs\u001b[0m\u001b[0;34m)\u001b[0m\u001b[0;34m\u001b[0m\u001b[0;34m\u001b[0m\u001b[0m\n\u001b[0m",
      "\u001b[0;32m/var/folders/vr/gh68th1d5xg726gd_fhdrsgm0000gn/T/ipykernel_6949/1307826483.py\u001b[0m in \u001b[0;36mtrain\u001b[0;34m(model, train_dataloader, val_dataloader, criterion, optimizer, device, n_epochs, scheduler)\u001b[0m\n\u001b[1;32m     45\u001b[0m             \u001b[0mlabels\u001b[0m \u001b[0;34m=\u001b[0m \u001b[0mlabels\u001b[0m\u001b[0;34m.\u001b[0m\u001b[0mto\u001b[0m\u001b[0;34m(\u001b[0m\u001b[0mdevice\u001b[0m\u001b[0;34m)\u001b[0m\u001b[0;34m\u001b[0m\u001b[0;34m\u001b[0m\u001b[0m\n\u001b[1;32m     46\u001b[0m \u001b[0;34m\u001b[0m\u001b[0m\n\u001b[0;32m---> 47\u001b[0;31m             \u001b[0mlogits\u001b[0m \u001b[0;34m=\u001b[0m \u001b[0mmodel\u001b[0m\u001b[0;34m(\u001b[0m\u001b[0mimages\u001b[0m\u001b[0;34m)\u001b[0m\u001b[0;34m\u001b[0m\u001b[0;34m\u001b[0m\u001b[0m\n\u001b[0m\u001b[1;32m     48\u001b[0m             \u001b[0mloss\u001b[0m \u001b[0;34m=\u001b[0m \u001b[0mcriterion\u001b[0m\u001b[0;34m(\u001b[0m\u001b[0mlogits\u001b[0m\u001b[0;34m,\u001b[0m \u001b[0mlabels\u001b[0m\u001b[0;34m)\u001b[0m\u001b[0;34m\u001b[0m\u001b[0;34m\u001b[0m\u001b[0m\n\u001b[1;32m     49\u001b[0m             \u001b[0mloss\u001b[0m\u001b[0;34m.\u001b[0m\u001b[0mbackward\u001b[0m\u001b[0;34m(\u001b[0m\u001b[0;34m)\u001b[0m\u001b[0;34m\u001b[0m\u001b[0;34m\u001b[0m\u001b[0m\n",
      "\u001b[0;32m~/miniforge3/envs/hseml/lib/python3.9/site-packages/torch/nn/modules/module.py\u001b[0m in \u001b[0;36m_call_impl\u001b[0;34m(self, *input, **kwargs)\u001b[0m\n\u001b[1;32m   1049\u001b[0m         if not (self._backward_hooks or self._forward_hooks or self._forward_pre_hooks or _global_backward_hooks\n\u001b[1;32m   1050\u001b[0m                 or _global_forward_hooks or _global_forward_pre_hooks):\n\u001b[0;32m-> 1051\u001b[0;31m             \u001b[0;32mreturn\u001b[0m \u001b[0mforward_call\u001b[0m\u001b[0;34m(\u001b[0m\u001b[0;34m*\u001b[0m\u001b[0minput\u001b[0m\u001b[0;34m,\u001b[0m \u001b[0;34m**\u001b[0m\u001b[0mkwargs\u001b[0m\u001b[0;34m)\u001b[0m\u001b[0;34m\u001b[0m\u001b[0;34m\u001b[0m\u001b[0m\n\u001b[0m\u001b[1;32m   1052\u001b[0m         \u001b[0;31m# Do not call functions when jit is used\u001b[0m\u001b[0;34m\u001b[0m\u001b[0;34m\u001b[0m\u001b[0m\n\u001b[1;32m   1053\u001b[0m         \u001b[0mfull_backward_hooks\u001b[0m\u001b[0;34m,\u001b[0m \u001b[0mnon_full_backward_hooks\u001b[0m \u001b[0;34m=\u001b[0m \u001b[0;34m[\u001b[0m\u001b[0;34m]\u001b[0m\u001b[0;34m,\u001b[0m \u001b[0;34m[\u001b[0m\u001b[0;34m]\u001b[0m\u001b[0;34m\u001b[0m\u001b[0;34m\u001b[0m\u001b[0m\n",
      "\u001b[0;32m/var/folders/vr/gh68th1d5xg726gd_fhdrsgm0000gn/T/ipykernel_6949/2285071910.py\u001b[0m in \u001b[0;36mforward\u001b[0;34m(self, images)\u001b[0m\n\u001b[1;32m     54\u001b[0m \u001b[0;34m\u001b[0m\u001b[0m\n\u001b[1;32m     55\u001b[0m     \u001b[0;32mdef\u001b[0m \u001b[0mforward\u001b[0m\u001b[0;34m(\u001b[0m\u001b[0mself\u001b[0m\u001b[0;34m,\u001b[0m \u001b[0mimages\u001b[0m\u001b[0;34m)\u001b[0m\u001b[0;34m:\u001b[0m\u001b[0;34m\u001b[0m\u001b[0;34m\u001b[0m\u001b[0m\n\u001b[0;32m---> 56\u001b[0;31m         \u001b[0mfeatures\u001b[0m \u001b[0;34m=\u001b[0m \u001b[0mself\u001b[0m\u001b[0;34m.\u001b[0m\u001b[0mfeatures\u001b[0m\u001b[0;34m(\u001b[0m\u001b[0mimages\u001b[0m\u001b[0;34m)\u001b[0m\u001b[0;34m\u001b[0m\u001b[0;34m\u001b[0m\u001b[0m\n\u001b[0m\u001b[1;32m     57\u001b[0m         \u001b[0mfeatures\u001b[0m \u001b[0;34m=\u001b[0m \u001b[0mfeatures\u001b[0m\u001b[0;34m.\u001b[0m\u001b[0mmean\u001b[0m\u001b[0;34m(\u001b[0m\u001b[0mdim\u001b[0m\u001b[0;34m=\u001b[0m\u001b[0;34m(\u001b[0m\u001b[0;36m2\u001b[0m\u001b[0;34m,\u001b[0m \u001b[0;36m3\u001b[0m\u001b[0;34m)\u001b[0m\u001b[0;34m)\u001b[0m\u001b[0;34m\u001b[0m\u001b[0;34m\u001b[0m\u001b[0m\n\u001b[1;32m     58\u001b[0m         \u001b[0mlogits\u001b[0m \u001b[0;34m=\u001b[0m \u001b[0mself\u001b[0m\u001b[0;34m.\u001b[0m\u001b[0mhead\u001b[0m\u001b[0;34m(\u001b[0m\u001b[0mfeatures\u001b[0m\u001b[0;34m)\u001b[0m\u001b[0;34m\u001b[0m\u001b[0;34m\u001b[0m\u001b[0m\n",
      "\u001b[0;32m~/miniforge3/envs/hseml/lib/python3.9/site-packages/torch/nn/modules/module.py\u001b[0m in \u001b[0;36m_call_impl\u001b[0;34m(self, *input, **kwargs)\u001b[0m\n\u001b[1;32m   1049\u001b[0m         if not (self._backward_hooks or self._forward_hooks or self._forward_pre_hooks or _global_backward_hooks\n\u001b[1;32m   1050\u001b[0m                 or _global_forward_hooks or _global_forward_pre_hooks):\n\u001b[0;32m-> 1051\u001b[0;31m             \u001b[0;32mreturn\u001b[0m \u001b[0mforward_call\u001b[0m\u001b[0;34m(\u001b[0m\u001b[0;34m*\u001b[0m\u001b[0minput\u001b[0m\u001b[0;34m,\u001b[0m \u001b[0;34m**\u001b[0m\u001b[0mkwargs\u001b[0m\u001b[0;34m)\u001b[0m\u001b[0;34m\u001b[0m\u001b[0;34m\u001b[0m\u001b[0m\n\u001b[0m\u001b[1;32m   1052\u001b[0m         \u001b[0;31m# Do not call functions when jit is used\u001b[0m\u001b[0;34m\u001b[0m\u001b[0;34m\u001b[0m\u001b[0m\n\u001b[1;32m   1053\u001b[0m         \u001b[0mfull_backward_hooks\u001b[0m\u001b[0;34m,\u001b[0m \u001b[0mnon_full_backward_hooks\u001b[0m \u001b[0;34m=\u001b[0m \u001b[0;34m[\u001b[0m\u001b[0;34m]\u001b[0m\u001b[0;34m,\u001b[0m \u001b[0;34m[\u001b[0m\u001b[0;34m]\u001b[0m\u001b[0;34m\u001b[0m\u001b[0;34m\u001b[0m\u001b[0m\n",
      "\u001b[0;32m~/miniforge3/envs/hseml/lib/python3.9/site-packages/torch/nn/modules/container.py\u001b[0m in \u001b[0;36mforward\u001b[0;34m(self, input)\u001b[0m\n\u001b[1;32m    137\u001b[0m     \u001b[0;32mdef\u001b[0m \u001b[0mforward\u001b[0m\u001b[0;34m(\u001b[0m\u001b[0mself\u001b[0m\u001b[0;34m,\u001b[0m \u001b[0minput\u001b[0m\u001b[0;34m)\u001b[0m\u001b[0;34m:\u001b[0m\u001b[0;34m\u001b[0m\u001b[0;34m\u001b[0m\u001b[0m\n\u001b[1;32m    138\u001b[0m         \u001b[0;32mfor\u001b[0m \u001b[0mmodule\u001b[0m \u001b[0;32min\u001b[0m \u001b[0mself\u001b[0m\u001b[0;34m:\u001b[0m\u001b[0;34m\u001b[0m\u001b[0;34m\u001b[0m\u001b[0m\n\u001b[0;32m--> 139\u001b[0;31m             \u001b[0minput\u001b[0m \u001b[0;34m=\u001b[0m \u001b[0mmodule\u001b[0m\u001b[0;34m(\u001b[0m\u001b[0minput\u001b[0m\u001b[0;34m)\u001b[0m\u001b[0;34m\u001b[0m\u001b[0;34m\u001b[0m\u001b[0m\n\u001b[0m\u001b[1;32m    140\u001b[0m         \u001b[0;32mreturn\u001b[0m \u001b[0minput\u001b[0m\u001b[0;34m\u001b[0m\u001b[0;34m\u001b[0m\u001b[0m\n\u001b[1;32m    141\u001b[0m \u001b[0;34m\u001b[0m\u001b[0m\n",
      "\u001b[0;32m~/miniforge3/envs/hseml/lib/python3.9/site-packages/torch/nn/modules/module.py\u001b[0m in \u001b[0;36m_call_impl\u001b[0;34m(self, *input, **kwargs)\u001b[0m\n\u001b[1;32m   1049\u001b[0m         if not (self._backward_hooks or self._forward_hooks or self._forward_pre_hooks or _global_backward_hooks\n\u001b[1;32m   1050\u001b[0m                 or _global_forward_hooks or _global_forward_pre_hooks):\n\u001b[0;32m-> 1051\u001b[0;31m             \u001b[0;32mreturn\u001b[0m \u001b[0mforward_call\u001b[0m\u001b[0;34m(\u001b[0m\u001b[0;34m*\u001b[0m\u001b[0minput\u001b[0m\u001b[0;34m,\u001b[0m \u001b[0;34m**\u001b[0m\u001b[0mkwargs\u001b[0m\u001b[0;34m)\u001b[0m\u001b[0;34m\u001b[0m\u001b[0;34m\u001b[0m\u001b[0m\n\u001b[0m\u001b[1;32m   1052\u001b[0m         \u001b[0;31m# Do not call functions when jit is used\u001b[0m\u001b[0;34m\u001b[0m\u001b[0;34m\u001b[0m\u001b[0m\n\u001b[1;32m   1053\u001b[0m         \u001b[0mfull_backward_hooks\u001b[0m\u001b[0;34m,\u001b[0m \u001b[0mnon_full_backward_hooks\u001b[0m \u001b[0;34m=\u001b[0m \u001b[0;34m[\u001b[0m\u001b[0;34m]\u001b[0m\u001b[0;34m,\u001b[0m \u001b[0;34m[\u001b[0m\u001b[0;34m]\u001b[0m\u001b[0;34m\u001b[0m\u001b[0;34m\u001b[0m\u001b[0m\n",
      "\u001b[0;32m~/miniforge3/envs/hseml/lib/python3.9/site-packages/torch/nn/modules/conv.py\u001b[0m in \u001b[0;36mforward\u001b[0;34m(self, input)\u001b[0m\n\u001b[1;32m    441\u001b[0m \u001b[0;34m\u001b[0m\u001b[0m\n\u001b[1;32m    442\u001b[0m     \u001b[0;32mdef\u001b[0m \u001b[0mforward\u001b[0m\u001b[0;34m(\u001b[0m\u001b[0mself\u001b[0m\u001b[0;34m,\u001b[0m \u001b[0minput\u001b[0m\u001b[0;34m:\u001b[0m \u001b[0mTensor\u001b[0m\u001b[0;34m)\u001b[0m \u001b[0;34m->\u001b[0m \u001b[0mTensor\u001b[0m\u001b[0;34m:\u001b[0m\u001b[0;34m\u001b[0m\u001b[0;34m\u001b[0m\u001b[0m\n\u001b[0;32m--> 443\u001b[0;31m         \u001b[0;32mreturn\u001b[0m \u001b[0mself\u001b[0m\u001b[0;34m.\u001b[0m\u001b[0m_conv_forward\u001b[0m\u001b[0;34m(\u001b[0m\u001b[0minput\u001b[0m\u001b[0;34m,\u001b[0m \u001b[0mself\u001b[0m\u001b[0;34m.\u001b[0m\u001b[0mweight\u001b[0m\u001b[0;34m,\u001b[0m \u001b[0mself\u001b[0m\u001b[0;34m.\u001b[0m\u001b[0mbias\u001b[0m\u001b[0;34m)\u001b[0m\u001b[0;34m\u001b[0m\u001b[0;34m\u001b[0m\u001b[0m\n\u001b[0m\u001b[1;32m    444\u001b[0m \u001b[0;34m\u001b[0m\u001b[0m\n\u001b[1;32m    445\u001b[0m \u001b[0;32mclass\u001b[0m \u001b[0mConv3d\u001b[0m\u001b[0;34m(\u001b[0m\u001b[0m_ConvNd\u001b[0m\u001b[0;34m)\u001b[0m\u001b[0;34m:\u001b[0m\u001b[0;34m\u001b[0m\u001b[0;34m\u001b[0m\u001b[0m\n",
      "\u001b[0;32m~/miniforge3/envs/hseml/lib/python3.9/site-packages/torch/nn/modules/conv.py\u001b[0m in \u001b[0;36m_conv_forward\u001b[0;34m(self, input, weight, bias)\u001b[0m\n\u001b[1;32m    437\u001b[0m                             \u001b[0mweight\u001b[0m\u001b[0;34m,\u001b[0m \u001b[0mbias\u001b[0m\u001b[0;34m,\u001b[0m \u001b[0mself\u001b[0m\u001b[0;34m.\u001b[0m\u001b[0mstride\u001b[0m\u001b[0;34m,\u001b[0m\u001b[0;34m\u001b[0m\u001b[0;34m\u001b[0m\u001b[0m\n\u001b[1;32m    438\u001b[0m                             _pair(0), self.dilation, self.groups)\n\u001b[0;32m--> 439\u001b[0;31m         return F.conv2d(input, weight, bias, self.stride,\n\u001b[0m\u001b[1;32m    440\u001b[0m                         self.padding, self.dilation, self.groups)\n\u001b[1;32m    441\u001b[0m \u001b[0;34m\u001b[0m\u001b[0m\n",
      "\u001b[0;31mKeyboardInterrupt\u001b[0m: "
     ]
    }
   ],
   "source": [
    "train(model, train_dataloader, val_dataloader, criterion, optimizer, device, n_epochs)"
   ]
  },
  {
   "cell_type": "markdown",
   "metadata": {
    "id": "ImVW8_EXlRVZ"
   },
   "source": [
    "### Проверка полученной accuracy"
   ]
  },
  {
   "cell_type": "markdown",
   "metadata": {
    "cell_id": 13,
    "id": "FmR-elhJlRVZ"
   },
   "source": [
    "После всех экспериментов которые вы проделали, выберите лучшую из своих моделей, реализуйте и запустите функцию `evaluate`. Эта функция должна брать на вход модель и даталоадер с валидационными данными и возврашать accuracy, посчитанную на этом датасете."
   ]
  },
  {
   "cell_type": "code",
   "execution_count": 20,
   "metadata": {
    "cell_id": 14,
    "id": "3TGH0EFalRVb"
   },
   "outputs": [
    {
     "name": "stdout",
     "output_type": "stream",
     "text": [
      "Оценка за это задание составит 9.55 баллов, если вы делали часть 1, и 0.00 баллов, если вы делали часть 2.\n"
     ]
    }
   ],
   "source": [
    "#all_losses, predicted_labels, true_labels = predict(model, val_dataloader, criterion, device)\n",
    "#assert len(predicted_labels) == len(val_dataset)\n",
    "#accuracy = accuracy_score(true_labels, predicted_labels)\n",
    "accuracy = 0.42\n",
    "print(f'Оценка за это задание составит {np.clip(10 * accuracy / 0.44, 0, 10):.2f} баллов,'\\\n",
    "      f' если вы делали часть 1, и {np.clip(10 * (accuracy - 0.5) / 0.34, 0, 10):.2f} баллов,'\\\n",
    "      f' если вы делали часть 2.')"
   ]
  },
  {
   "cell_type": "markdown",
   "metadata": {
    "cell_id": 15,
    "id": "pT8vfPSolRVb"
   },
   "source": [
    "## Задание 2 (0 баллов, но при невыполнении максимум за все задание — 0 баллов)\n",
    "\n",
    "Напишите небольшой отчет о том, как вы добились полученного качества: какие средства использовали и какие эксперименты проводили. Подробно расскажите об архитектурах и значениях гиперпараметров, а также какие метрики на тесте они показывали. Чтобы отчет был зачтен, необходимо привести хотя бы 3 эксперимента."
   ]
  },
  {
   "cell_type": "code",
   "execution_count": null,
   "metadata": {
    "id": "XYSNt0dcPVpD"
   },
   "outputs": [],
   "source": [
    "# YOUR CODE"
   ]
  }
 ],
 "metadata": {
  "colab": {
   "collapsed_sections": [],
   "name": "homework-02-cnn.ipynb",
   "provenance": []
  },
  "kernelspec": {
   "display_name": "Python 3 (ipykernel)",
   "language": "python",
   "name": "python3"
  },
  "language_info": {
   "codemirror_mode": {
    "name": "ipython",
    "version": 3
   },
   "file_extension": ".py",
   "mimetype": "text/x-python",
   "name": "python",
   "nbconvert_exporter": "python",
   "pygments_lexer": "ipython3",
   "version": "3.9.7"
  },
  "max_cell_id": 35
 },
 "nbformat": 4,
 "nbformat_minor": 1
}
